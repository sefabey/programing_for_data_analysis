{
 "cells": [
  {
   "cell_type": "code",
   "execution_count": 1,
   "metadata": {},
   "outputs": [
    {
     "data": {
      "text/plain": [
       "'/Users/sefaozalp/Documents/Work/teaching/cardiff_met/prog_for_data_analysis/notebooks/week3'"
      ]
     },
     "execution_count": 1,
     "metadata": {},
     "output_type": "execute_result"
    }
   ],
   "source": [
    "import pandas as pd\n",
    "%matplotlib inline\n",
    "%pwd"
   ]
  },
  {
   "cell_type": "markdown",
   "metadata": {},
   "source": [
    "## Data Ingestion and Cleaning"
   ]
  },
  {
   "cell_type": "code",
   "execution_count": 2,
   "metadata": {},
   "outputs": [
    {
     "data": {
      "text/html": [
       "<div>\n",
       "<style scoped>\n",
       "    .dataframe tbody tr th:only-of-type {\n",
       "        vertical-align: middle;\n",
       "    }\n",
       "\n",
       "    .dataframe tbody tr th {\n",
       "        vertical-align: top;\n",
       "    }\n",
       "\n",
       "    .dataframe thead th {\n",
       "        text-align: right;\n",
       "    }\n",
       "</style>\n",
       "<table border=\"1\" class=\"dataframe\">\n",
       "  <thead>\n",
       "    <tr style=\"text-align: right;\">\n",
       "      <th></th>\n",
       "      <th>index</th>\n",
       "      <th>date</th>\n",
       "      <th>duration</th>\n",
       "      <th>item</th>\n",
       "      <th>month</th>\n",
       "      <th>network</th>\n",
       "    </tr>\n",
       "  </thead>\n",
       "  <tbody>\n",
       "    <tr>\n",
       "      <th>0</th>\n",
       "      <td>0</td>\n",
       "      <td>15/10/2014 06:58</td>\n",
       "      <td>34.429</td>\n",
       "      <td>data</td>\n",
       "      <td>2014-11</td>\n",
       "      <td>Tesco</td>\n",
       "    </tr>\n",
       "    <tr>\n",
       "      <th>1</th>\n",
       "      <td>1</td>\n",
       "      <td>15/10/2014 06:58</td>\n",
       "      <td>13.000</td>\n",
       "      <td>NaN</td>\n",
       "      <td>2014-11</td>\n",
       "      <td>Vodafone</td>\n",
       "    </tr>\n",
       "    <tr>\n",
       "      <th>2</th>\n",
       "      <td>2</td>\n",
       "      <td>15/10/2014 14:46</td>\n",
       "      <td>23.000</td>\n",
       "      <td>call</td>\n",
       "      <td>2014-11</td>\n",
       "      <td>Meter</td>\n",
       "    </tr>\n",
       "    <tr>\n",
       "      <th>3</th>\n",
       "      <td>3</td>\n",
       "      <td>15/10/2014 14:48</td>\n",
       "      <td>4.000</td>\n",
       "      <td>call</td>\n",
       "      <td>2014-11</td>\n",
       "      <td>Tesco</td>\n",
       "    </tr>\n",
       "    <tr>\n",
       "      <th>4</th>\n",
       "      <td>4</td>\n",
       "      <td>15/10/2014 17:27</td>\n",
       "      <td>4.000</td>\n",
       "      <td>call</td>\n",
       "      <td>2014-11</td>\n",
       "      <td>Tescoss</td>\n",
       "    </tr>\n",
       "  </tbody>\n",
       "</table>\n",
       "</div>"
      ],
      "text/plain": [
       "   index              date  duration  item    month   network\n",
       "0      0  15/10/2014 06:58    34.429  data  2014-11     Tesco\n",
       "1      1  15/10/2014 06:58    13.000   NaN  2014-11  Vodafone\n",
       "2      2  15/10/2014 14:46    23.000  call  2014-11     Meter\n",
       "3      3  15/10/2014 14:48     4.000  call  2014-11     Tesco\n",
       "4      4  15/10/2014 17:27     4.000  call  2014-11   Tescoss"
      ]
     },
     "execution_count": 2,
     "metadata": {},
     "output_type": "execute_result"
    }
   ],
   "source": [
    "df = pd.read_csv(\"/Users/sefaozalp/Documents/Work/teaching/cardiff_met/prog_for_data_analysis/notebooks/week1/phone_data.csv\")\n",
    "df.head()\n"
   ]
  },
  {
   "cell_type": "code",
   "execution_count": 3,
   "metadata": {},
   "outputs": [
    {
     "data": {
      "text/plain": [
       "index       0\n",
       "date        0\n",
       "duration    2\n",
       "item        1\n",
       "month       0\n",
       "network     0\n",
       "dtype: int64"
      ]
     },
     "execution_count": 3,
     "metadata": {},
     "output_type": "execute_result"
    }
   ],
   "source": [
    "df.isnull().sum()\n"
   ]
  },
  {
   "cell_type": "code",
   "execution_count": 4,
   "metadata": {},
   "outputs": [
    {
     "data": {
      "text/plain": [
       "index       0\n",
       "date        0\n",
       "duration    0\n",
       "item        0\n",
       "month       0\n",
       "network     0\n",
       "dtype: int64"
      ]
     },
     "execution_count": 4,
     "metadata": {},
     "output_type": "execute_result"
    }
   ],
   "source": [
    "clean_df = df.dropna(how=\"any\")\n",
    "\n",
    "clean_df.isnull().sum()"
   ]
  },
  {
   "cell_type": "code",
   "execution_count": 5,
   "metadata": {},
   "outputs": [
    {
     "data": {
      "text/plain": [
       "Tesco       301\n",
       "Three       215\n",
       "Vodafone    213\n",
       "Meteor       85\n",
       "world         7\n",
       "special       3\n",
       "Tescoss       1\n",
       "Tescos        1\n",
       "Meter         1\n",
       "Name: network, dtype: int64"
      ]
     },
     "execution_count": 5,
     "metadata": {},
     "output_type": "execute_result"
    }
   ],
   "source": [
    "clean_df['network'].value_counts()"
   ]
  },
  {
   "cell_type": "code",
   "execution_count": 6,
   "metadata": {},
   "outputs": [
    {
     "name": "stderr",
     "output_type": "stream",
     "text": [
      "/Users/sefaozalp/anaconda3/lib/python3.6/site-packages/pandas/core/generic.py:6746: SettingWithCopyWarning: \n",
      "A value is trying to be set on a copy of a slice from a DataFrame\n",
      "\n",
      "See the caveats in the documentation: https://pandas.pydata.org/pandas-docs/stable/user_guide/indexing.html#returning-a-view-versus-a-copy\n",
      "  self._update_inplace(new_data)\n"
     ]
    },
    {
     "data": {
      "text/plain": [
       "Tesco       303\n",
       "Three       215\n",
       "Vodafone    213\n",
       "Meteor       86\n",
       "world         7\n",
       "special       3\n",
       "Name: network, dtype: int64"
      ]
     },
     "execution_count": 6,
     "metadata": {},
     "output_type": "execute_result"
    }
   ],
   "source": [
    "clean_df['network'].replace([\"Meter\" ], \"Meteor\", inplace=True )\n",
    "clean_df['network'].replace([\"Tescos\", \"Tescoss\" ], \"Tesco\", inplace=True )\n",
    "clean_df['network'].value_counts()\n",
    "\n",
    "\n"
   ]
  },
  {
   "cell_type": "markdown",
   "metadata": {},
   "source": [
    "## groupby"
   ]
  },
  {
   "cell_type": "code",
   "execution_count": 7,
   "metadata": {},
   "outputs": [
    {
     "data": {
      "text/html": [
       "<div>\n",
       "<style scoped>\n",
       "    .dataframe tbody tr th:only-of-type {\n",
       "        vertical-align: middle;\n",
       "    }\n",
       "\n",
       "    .dataframe tbody tr th {\n",
       "        vertical-align: top;\n",
       "    }\n",
       "\n",
       "    .dataframe thead th {\n",
       "        text-align: right;\n",
       "    }\n",
       "</style>\n",
       "<table border=\"1\" class=\"dataframe\">\n",
       "  <thead>\n",
       "    <tr style=\"text-align: right;\">\n",
       "      <th></th>\n",
       "      <th>index</th>\n",
       "      <th>duration</th>\n",
       "    </tr>\n",
       "  </thead>\n",
       "  <tbody>\n",
       "    <tr>\n",
       "      <th>count</th>\n",
       "      <td>827.000000</td>\n",
       "      <td>827.000000</td>\n",
       "    </tr>\n",
       "    <tr>\n",
       "      <th>mean</th>\n",
       "      <td>415.967352</td>\n",
       "      <td>118.213241</td>\n",
       "    </tr>\n",
       "    <tr>\n",
       "      <th>std</th>\n",
       "      <td>238.934429</td>\n",
       "      <td>444.883102</td>\n",
       "    </tr>\n",
       "    <tr>\n",
       "      <th>min</th>\n",
       "      <td>0.000000</td>\n",
       "      <td>1.000000</td>\n",
       "    </tr>\n",
       "    <tr>\n",
       "      <th>25%</th>\n",
       "      <td>209.500000</td>\n",
       "      <td>1.000000</td>\n",
       "    </tr>\n",
       "    <tr>\n",
       "      <th>50%</th>\n",
       "      <td>416.000000</td>\n",
       "      <td>25.000000</td>\n",
       "    </tr>\n",
       "    <tr>\n",
       "      <th>75%</th>\n",
       "      <td>622.500000</td>\n",
       "      <td>55.500000</td>\n",
       "    </tr>\n",
       "    <tr>\n",
       "      <th>max</th>\n",
       "      <td>829.000000</td>\n",
       "      <td>10528.000000</td>\n",
       "    </tr>\n",
       "  </tbody>\n",
       "</table>\n",
       "</div>"
      ],
      "text/plain": [
       "            index      duration\n",
       "count  827.000000    827.000000\n",
       "mean   415.967352    118.213241\n",
       "std    238.934429    444.883102\n",
       "min      0.000000      1.000000\n",
       "25%    209.500000      1.000000\n",
       "50%    416.000000     25.000000\n",
       "75%    622.500000     55.500000\n",
       "max    829.000000  10528.000000"
      ]
     },
     "execution_count": 7,
     "metadata": {},
     "output_type": "execute_result"
    }
   ],
   "source": [
    "clean_df.describe()"
   ]
  },
  {
   "cell_type": "code",
   "execution_count": 8,
   "metadata": {},
   "outputs": [
    {
     "data": {
      "text/plain": [
       "118.21324062877872"
      ]
     },
     "execution_count": 8,
     "metadata": {},
     "output_type": "execute_result"
    }
   ],
   "source": [
    "clean_df['duration'].mean()"
   ]
  },
  {
   "cell_type": "markdown",
   "metadata": {},
   "source": [
    "What if I want to see the mean duration for each operator?"
   ]
  },
  {
   "cell_type": "code",
   "execution_count": 9,
   "metadata": {},
   "outputs": [
    {
     "data": {
      "text/plain": [
       "network\n",
       "Meteor       84.093023\n",
       "Tesco       129.416997\n",
       "Three       170.004651\n",
       "Vodafone     69.276995\n",
       "special       1.000000\n",
       "world         1.000000\n",
       "Name: duration, dtype: float64"
      ]
     },
     "execution_count": 9,
     "metadata": {},
     "output_type": "execute_result"
    }
   ],
   "source": [
    "clean_df.groupby('network')['duration'].mean()"
   ]
  },
  {
   "cell_type": "markdown",
   "metadata": {},
   "source": [
    "Lets check reproduce these means ourselves and see what groupby did."
   ]
  },
  {
   "cell_type": "code",
   "execution_count": 10,
   "metadata": {},
   "outputs": [
    {
     "data": {
      "text/plain": [
       "129.41699669966997"
      ]
     },
     "execution_count": 10,
     "metadata": {},
     "output_type": "execute_result"
    }
   ],
   "source": [
    "clean_df[clean_df['network']==\"Tesco\"]['duration'].mean() # same value as above"
   ]
  },
  {
   "cell_type": "code",
   "execution_count": 11,
   "metadata": {},
   "outputs": [
    {
     "data": {
      "text/plain": [
       "170.0046511627907"
      ]
     },
     "execution_count": 11,
     "metadata": {},
     "output_type": "execute_result"
    }
   ],
   "source": [
    "clean_df[clean_df['network']==\"Three\"]['duration'].mean() "
   ]
  },
  {
   "cell_type": "markdown",
   "metadata": {},
   "source": [
    "### We use groupby any time we want to analyse pandas series by some category. \n",
    "### In this case our category is 'network'."
   ]
  },
  {
   "cell_type": "markdown",
   "metadata": {},
   "source": [
    "# *Golden Rule: If you can rephrase your question as for each, then it is possible suitable to use groupby.*"
   ]
  },
  {
   "cell_type": "code",
   "execution_count": 12,
   "metadata": {},
   "outputs": [
    {
     "data": {
      "text/html": [
       "<div>\n",
       "<style scoped>\n",
       "    .dataframe tbody tr th:only-of-type {\n",
       "        vertical-align: middle;\n",
       "    }\n",
       "\n",
       "    .dataframe tbody tr th {\n",
       "        vertical-align: top;\n",
       "    }\n",
       "\n",
       "    .dataframe thead th {\n",
       "        text-align: right;\n",
       "    }\n",
       "</style>\n",
       "<table border=\"1\" class=\"dataframe\">\n",
       "  <thead>\n",
       "    <tr style=\"text-align: right;\">\n",
       "      <th></th>\n",
       "      <th>index</th>\n",
       "      <th>date</th>\n",
       "      <th>duration</th>\n",
       "      <th>item</th>\n",
       "      <th>month</th>\n",
       "    </tr>\n",
       "    <tr>\n",
       "      <th>network</th>\n",
       "      <th></th>\n",
       "      <th></th>\n",
       "      <th></th>\n",
       "      <th></th>\n",
       "      <th></th>\n",
       "    </tr>\n",
       "  </thead>\n",
       "  <tbody>\n",
       "    <tr>\n",
       "      <th>Meteor</th>\n",
       "      <td>86</td>\n",
       "      <td>86</td>\n",
       "      <td>86</td>\n",
       "      <td>86</td>\n",
       "      <td>86</td>\n",
       "    </tr>\n",
       "    <tr>\n",
       "      <th>Tesco</th>\n",
       "      <td>303</td>\n",
       "      <td>303</td>\n",
       "      <td>303</td>\n",
       "      <td>303</td>\n",
       "      <td>303</td>\n",
       "    </tr>\n",
       "    <tr>\n",
       "      <th>Three</th>\n",
       "      <td>215</td>\n",
       "      <td>215</td>\n",
       "      <td>215</td>\n",
       "      <td>215</td>\n",
       "      <td>215</td>\n",
       "    </tr>\n",
       "    <tr>\n",
       "      <th>Vodafone</th>\n",
       "      <td>213</td>\n",
       "      <td>213</td>\n",
       "      <td>213</td>\n",
       "      <td>213</td>\n",
       "      <td>213</td>\n",
       "    </tr>\n",
       "    <tr>\n",
       "      <th>special</th>\n",
       "      <td>3</td>\n",
       "      <td>3</td>\n",
       "      <td>3</td>\n",
       "      <td>3</td>\n",
       "      <td>3</td>\n",
       "    </tr>\n",
       "    <tr>\n",
       "      <th>world</th>\n",
       "      <td>7</td>\n",
       "      <td>7</td>\n",
       "      <td>7</td>\n",
       "      <td>7</td>\n",
       "      <td>7</td>\n",
       "    </tr>\n",
       "  </tbody>\n",
       "</table>\n",
       "</div>"
      ],
      "text/plain": [
       "          index  date  duration  item  month\n",
       "network                                     \n",
       "Meteor       86    86        86    86     86\n",
       "Tesco       303   303       303   303    303\n",
       "Three       215   215       215   215    215\n",
       "Vodafone    213   213       213   213    213\n",
       "special       3     3         3     3      3\n",
       "world         7     7         7     7      7"
      ]
     },
     "execution_count": 12,
     "metadata": {},
     "output_type": "execute_result"
    }
   ],
   "source": [
    "\n",
    "\n",
    "clean_df.groupby('network').count()"
   ]
  },
  {
   "cell_type": "code",
   "execution_count": 13,
   "metadata": {},
   "outputs": [
    {
     "data": {
      "text/html": [
       "<div>\n",
       "<style scoped>\n",
       "    .dataframe tbody tr th:only-of-type {\n",
       "        vertical-align: middle;\n",
       "    }\n",
       "\n",
       "    .dataframe tbody tr th {\n",
       "        vertical-align: top;\n",
       "    }\n",
       "\n",
       "    .dataframe thead th {\n",
       "        text-align: right;\n",
       "    }\n",
       "</style>\n",
       "<table border=\"1\" class=\"dataframe\">\n",
       "  <thead>\n",
       "    <tr style=\"text-align: right;\">\n",
       "      <th></th>\n",
       "      <th>index</th>\n",
       "      <th>date</th>\n",
       "      <th>duration</th>\n",
       "      <th>item</th>\n",
       "      <th>network</th>\n",
       "    </tr>\n",
       "    <tr>\n",
       "      <th>month</th>\n",
       "      <th></th>\n",
       "      <th></th>\n",
       "      <th></th>\n",
       "      <th></th>\n",
       "      <th></th>\n",
       "    </tr>\n",
       "  </thead>\n",
       "  <tbody>\n",
       "    <tr>\n",
       "      <th>2014-11</th>\n",
       "      <td>227</td>\n",
       "      <td>227</td>\n",
       "      <td>227</td>\n",
       "      <td>227</td>\n",
       "      <td>227</td>\n",
       "    </tr>\n",
       "    <tr>\n",
       "      <th>2014-12</th>\n",
       "      <td>157</td>\n",
       "      <td>157</td>\n",
       "      <td>157</td>\n",
       "      <td>157</td>\n",
       "      <td>157</td>\n",
       "    </tr>\n",
       "    <tr>\n",
       "      <th>2015-01</th>\n",
       "      <td>205</td>\n",
       "      <td>205</td>\n",
       "      <td>205</td>\n",
       "      <td>205</td>\n",
       "      <td>205</td>\n",
       "    </tr>\n",
       "    <tr>\n",
       "      <th>2015-02</th>\n",
       "      <td>137</td>\n",
       "      <td>137</td>\n",
       "      <td>137</td>\n",
       "      <td>137</td>\n",
       "      <td>137</td>\n",
       "    </tr>\n",
       "    <tr>\n",
       "      <th>2015-03</th>\n",
       "      <td>101</td>\n",
       "      <td>101</td>\n",
       "      <td>101</td>\n",
       "      <td>101</td>\n",
       "      <td>101</td>\n",
       "    </tr>\n",
       "  </tbody>\n",
       "</table>\n",
       "</div>"
      ],
      "text/plain": [
       "         index  date  duration  item  network\n",
       "month                                        \n",
       "2014-11    227   227       227   227      227\n",
       "2014-12    157   157       157   157      157\n",
       "2015-01    205   205       205   205      205\n",
       "2015-02    137   137       137   137      137\n",
       "2015-03    101   101       101   101      101"
      ]
     },
     "execution_count": 13,
     "metadata": {},
     "output_type": "execute_result"
    }
   ],
   "source": [
    "clean_df.groupby('month').count()  "
   ]
  },
  {
   "cell_type": "code",
   "execution_count": 14,
   "metadata": {},
   "outputs": [
    {
     "data": {
      "text/html": [
       "<div>\n",
       "<style scoped>\n",
       "    .dataframe tbody tr th:only-of-type {\n",
       "        vertical-align: middle;\n",
       "    }\n",
       "\n",
       "    .dataframe tbody tr th {\n",
       "        vertical-align: top;\n",
       "    }\n",
       "\n",
       "    .dataframe thead tr th {\n",
       "        text-align: left;\n",
       "    }\n",
       "\n",
       "    .dataframe thead tr:last-of-type th {\n",
       "        text-align: right;\n",
       "    }\n",
       "</style>\n",
       "<table border=\"1\" class=\"dataframe\">\n",
       "  <thead>\n",
       "    <tr>\n",
       "      <th></th>\n",
       "      <th colspan=\"8\" halign=\"left\">index</th>\n",
       "      <th colspan=\"8\" halign=\"left\">duration</th>\n",
       "    </tr>\n",
       "    <tr>\n",
       "      <th></th>\n",
       "      <th>count</th>\n",
       "      <th>mean</th>\n",
       "      <th>std</th>\n",
       "      <th>min</th>\n",
       "      <th>25%</th>\n",
       "      <th>50%</th>\n",
       "      <th>75%</th>\n",
       "      <th>max</th>\n",
       "      <th>count</th>\n",
       "      <th>mean</th>\n",
       "      <th>std</th>\n",
       "      <th>min</th>\n",
       "      <th>25%</th>\n",
       "      <th>50%</th>\n",
       "      <th>75%</th>\n",
       "      <th>max</th>\n",
       "    </tr>\n",
       "    <tr>\n",
       "      <th>network</th>\n",
       "      <th></th>\n",
       "      <th></th>\n",
       "      <th></th>\n",
       "      <th></th>\n",
       "      <th></th>\n",
       "      <th></th>\n",
       "      <th></th>\n",
       "      <th></th>\n",
       "      <th></th>\n",
       "      <th></th>\n",
       "      <th></th>\n",
       "      <th></th>\n",
       "      <th></th>\n",
       "      <th></th>\n",
       "      <th></th>\n",
       "      <th></th>\n",
       "    </tr>\n",
       "  </thead>\n",
       "  <tbody>\n",
       "    <tr>\n",
       "      <th>Meteor</th>\n",
       "      <td>86.0</td>\n",
       "      <td>361.918605</td>\n",
       "      <td>191.325421</td>\n",
       "      <td>2.0</td>\n",
       "      <td>217.25</td>\n",
       "      <td>352.5</td>\n",
       "      <td>497.75</td>\n",
       "      <td>802.0</td>\n",
       "      <td>86.0</td>\n",
       "      <td>84.093023</td>\n",
       "      <td>170.450174</td>\n",
       "      <td>1.0</td>\n",
       "      <td>1.000</td>\n",
       "      <td>6.000</td>\n",
       "      <td>75.0</td>\n",
       "      <td>1090.0</td>\n",
       "    </tr>\n",
       "    <tr>\n",
       "      <th>Tesco</th>\n",
       "      <td>303.0</td>\n",
       "      <td>459.105611</td>\n",
       "      <td>248.483577</td>\n",
       "      <td>0.0</td>\n",
       "      <td>265.00</td>\n",
       "      <td>466.0</td>\n",
       "      <td>677.50</td>\n",
       "      <td>827.0</td>\n",
       "      <td>303.0</td>\n",
       "      <td>129.416997</td>\n",
       "      <td>627.878928</td>\n",
       "      <td>1.0</td>\n",
       "      <td>34.429</td>\n",
       "      <td>34.429</td>\n",
       "      <td>71.0</td>\n",
       "      <td>10528.0</td>\n",
       "    </tr>\n",
       "    <tr>\n",
       "      <th>Three</th>\n",
       "      <td>215.0</td>\n",
       "      <td>397.990698</td>\n",
       "      <td>224.763094</td>\n",
       "      <td>7.0</td>\n",
       "      <td>205.00</td>\n",
       "      <td>390.0</td>\n",
       "      <td>580.50</td>\n",
       "      <td>815.0</td>\n",
       "      <td>215.0</td>\n",
       "      <td>170.004651</td>\n",
       "      <td>368.311638</td>\n",
       "      <td>1.0</td>\n",
       "      <td>1.000</td>\n",
       "      <td>4.000</td>\n",
       "      <td>107.0</td>\n",
       "      <td>2328.0</td>\n",
       "    </tr>\n",
       "    <tr>\n",
       "      <th>Vodafone</th>\n",
       "      <td>213.0</td>\n",
       "      <td>388.985915</td>\n",
       "      <td>246.062645</td>\n",
       "      <td>17.0</td>\n",
       "      <td>171.00</td>\n",
       "      <td>398.0</td>\n",
       "      <td>591.00</td>\n",
       "      <td>826.0</td>\n",
       "      <td>213.0</td>\n",
       "      <td>69.276995</td>\n",
       "      <td>233.543021</td>\n",
       "      <td>1.0</td>\n",
       "      <td>1.000</td>\n",
       "      <td>1.000</td>\n",
       "      <td>4.0</td>\n",
       "      <td>1859.0</td>\n",
       "    </tr>\n",
       "    <tr>\n",
       "      <th>special</th>\n",
       "      <td>3.0</td>\n",
       "      <td>468.333333</td>\n",
       "      <td>304.296456</td>\n",
       "      <td>121.0</td>\n",
       "      <td>358.50</td>\n",
       "      <td>596.0</td>\n",
       "      <td>642.00</td>\n",
       "      <td>688.0</td>\n",
       "      <td>3.0</td>\n",
       "      <td>1.000000</td>\n",
       "      <td>0.000000</td>\n",
       "      <td>1.0</td>\n",
       "      <td>1.000</td>\n",
       "      <td>1.000</td>\n",
       "      <td>1.0</td>\n",
       "      <td>1.0</td>\n",
       "    </tr>\n",
       "    <tr>\n",
       "      <th>world</th>\n",
       "      <td>7.0</td>\n",
       "      <td>563.428571</td>\n",
       "      <td>246.897318</td>\n",
       "      <td>360.0</td>\n",
       "      <td>365.50</td>\n",
       "      <td>371.0</td>\n",
       "      <td>826.50</td>\n",
       "      <td>829.0</td>\n",
       "      <td>7.0</td>\n",
       "      <td>1.000000</td>\n",
       "      <td>0.000000</td>\n",
       "      <td>1.0</td>\n",
       "      <td>1.000</td>\n",
       "      <td>1.000</td>\n",
       "      <td>1.0</td>\n",
       "      <td>1.0</td>\n",
       "    </tr>\n",
       "  </tbody>\n",
       "</table>\n",
       "</div>"
      ],
      "text/plain": [
       "          index                                                               \\\n",
       "          count        mean         std    min     25%    50%     75%    max   \n",
       "network                                                                        \n",
       "Meteor     86.0  361.918605  191.325421    2.0  217.25  352.5  497.75  802.0   \n",
       "Tesco     303.0  459.105611  248.483577    0.0  265.00  466.0  677.50  827.0   \n",
       "Three     215.0  397.990698  224.763094    7.0  205.00  390.0  580.50  815.0   \n",
       "Vodafone  213.0  388.985915  246.062645   17.0  171.00  398.0  591.00  826.0   \n",
       "special     3.0  468.333333  304.296456  121.0  358.50  596.0  642.00  688.0   \n",
       "world       7.0  563.428571  246.897318  360.0  365.50  371.0  826.50  829.0   \n",
       "\n",
       "         duration                                                               \n",
       "            count        mean         std  min     25%     50%    75%      max  \n",
       "network                                                                         \n",
       "Meteor       86.0   84.093023  170.450174  1.0   1.000   6.000   75.0   1090.0  \n",
       "Tesco       303.0  129.416997  627.878928  1.0  34.429  34.429   71.0  10528.0  \n",
       "Three       215.0  170.004651  368.311638  1.0   1.000   4.000  107.0   2328.0  \n",
       "Vodafone    213.0   69.276995  233.543021  1.0   1.000   1.000    4.0   1859.0  \n",
       "special       3.0    1.000000    0.000000  1.0   1.000   1.000    1.0      1.0  \n",
       "world         7.0    1.000000    0.000000  1.0   1.000   1.000    1.0      1.0  "
      ]
     },
     "execution_count": 14,
     "metadata": {},
     "output_type": "execute_result"
    }
   ],
   "source": [
    "clean_df.groupby('network').describe()"
   ]
  },
  {
   "cell_type": "markdown",
   "metadata": {},
   "source": [
    "Now for example, you want to know number of items for each network group"
   ]
  },
  {
   "cell_type": "code",
   "execution_count": 15,
   "metadata": {},
   "outputs": [
    {
     "data": {
      "text/plain": [
       "network   item\n",
       "Meteor    call     54\n",
       "          sms      32\n",
       "Tesco     data    150\n",
       "          call    140\n",
       "          sms      13\n",
       "Three     call    128\n",
       "          sms      87\n",
       "Vodafone  sms     148\n",
       "          call     65\n",
       "special   sms       3\n",
       "world     sms       7\n",
       "Name: item, dtype: int64"
      ]
     },
     "execution_count": 15,
     "metadata": {},
     "output_type": "execute_result"
    }
   ],
   "source": [
    "clean_df.groupby('network')['item'].value_counts()"
   ]
  },
  {
   "cell_type": "markdown",
   "metadata": {},
   "source": [
    "## TASK: find which month max number of calls were made?"
   ]
  },
  {
   "cell_type": "code",
   "execution_count": 16,
   "metadata": {},
   "outputs": [
    {
     "data": {
      "text/plain": [
       "('2014-11', 'call')"
      ]
     },
     "execution_count": 16,
     "metadata": {},
     "output_type": "execute_result"
    }
   ],
   "source": [
    "clean_df.groupby('month')['item'].value_counts().idxmax(\"call\")"
   ]
  },
  {
   "cell_type": "markdown",
   "metadata": {},
   "source": [
    "Grouping can also be done on multiple attributes. We need a list of multiple attributes."
   ]
  },
  {
   "cell_type": "code",
   "execution_count": 17,
   "metadata": {},
   "outputs": [
    {
     "data": {
      "text/html": [
       "<div>\n",
       "<style scoped>\n",
       "    .dataframe tbody tr th:only-of-type {\n",
       "        vertical-align: middle;\n",
       "    }\n",
       "\n",
       "    .dataframe tbody tr th {\n",
       "        vertical-align: top;\n",
       "    }\n",
       "\n",
       "    .dataframe thead th {\n",
       "        text-align: right;\n",
       "    }\n",
       "</style>\n",
       "<table border=\"1\" class=\"dataframe\">\n",
       "  <thead>\n",
       "    <tr style=\"text-align: right;\">\n",
       "      <th></th>\n",
       "      <th></th>\n",
       "      <th>index</th>\n",
       "      <th>date</th>\n",
       "      <th>duration</th>\n",
       "      <th>item</th>\n",
       "    </tr>\n",
       "    <tr>\n",
       "      <th>month</th>\n",
       "      <th>network</th>\n",
       "      <th></th>\n",
       "      <th></th>\n",
       "      <th></th>\n",
       "      <th></th>\n",
       "    </tr>\n",
       "  </thead>\n",
       "  <tbody>\n",
       "    <tr>\n",
       "      <th rowspan=\"5\" valign=\"top\">2014-11</th>\n",
       "      <th>Meteor</th>\n",
       "      <td>22</td>\n",
       "      <td>22</td>\n",
       "      <td>22</td>\n",
       "      <td>22</td>\n",
       "    </tr>\n",
       "    <tr>\n",
       "      <th>Tesco</th>\n",
       "      <td>63</td>\n",
       "      <td>63</td>\n",
       "      <td>63</td>\n",
       "      <td>63</td>\n",
       "    </tr>\n",
       "    <tr>\n",
       "      <th>Three</th>\n",
       "      <td>64</td>\n",
       "      <td>64</td>\n",
       "      <td>64</td>\n",
       "      <td>64</td>\n",
       "    </tr>\n",
       "    <tr>\n",
       "      <th>Vodafone</th>\n",
       "      <td>77</td>\n",
       "      <td>77</td>\n",
       "      <td>77</td>\n",
       "      <td>77</td>\n",
       "    </tr>\n",
       "    <tr>\n",
       "      <th>special</th>\n",
       "      <td>1</td>\n",
       "      <td>1</td>\n",
       "      <td>1</td>\n",
       "      <td>1</td>\n",
       "    </tr>\n",
       "    <tr>\n",
       "      <th rowspan=\"5\" valign=\"top\">2014-12</th>\n",
       "      <th>Meteor</th>\n",
       "      <td>24</td>\n",
       "      <td>24</td>\n",
       "      <td>24</td>\n",
       "      <td>24</td>\n",
       "    </tr>\n",
       "    <tr>\n",
       "      <th>Tesco</th>\n",
       "      <td>58</td>\n",
       "      <td>58</td>\n",
       "      <td>58</td>\n",
       "      <td>58</td>\n",
       "    </tr>\n",
       "    <tr>\n",
       "      <th>Three</th>\n",
       "      <td>43</td>\n",
       "      <td>43</td>\n",
       "      <td>43</td>\n",
       "      <td>43</td>\n",
       "    </tr>\n",
       "    <tr>\n",
       "      <th>Vodafone</th>\n",
       "      <td>28</td>\n",
       "      <td>28</td>\n",
       "      <td>28</td>\n",
       "      <td>28</td>\n",
       "    </tr>\n",
       "    <tr>\n",
       "      <th>world</th>\n",
       "      <td>4</td>\n",
       "      <td>4</td>\n",
       "      <td>4</td>\n",
       "      <td>4</td>\n",
       "    </tr>\n",
       "    <tr>\n",
       "      <th rowspan=\"4\" valign=\"top\">2015-01</th>\n",
       "      <th>Meteor</th>\n",
       "      <td>31</td>\n",
       "      <td>31</td>\n",
       "      <td>31</td>\n",
       "      <td>31</td>\n",
       "    </tr>\n",
       "    <tr>\n",
       "      <th>Tesco</th>\n",
       "      <td>60</td>\n",
       "      <td>60</td>\n",
       "      <td>60</td>\n",
       "      <td>60</td>\n",
       "    </tr>\n",
       "    <tr>\n",
       "      <th>Three</th>\n",
       "      <td>59</td>\n",
       "      <td>59</td>\n",
       "      <td>59</td>\n",
       "      <td>59</td>\n",
       "    </tr>\n",
       "    <tr>\n",
       "      <th>Vodafone</th>\n",
       "      <td>55</td>\n",
       "      <td>55</td>\n",
       "      <td>55</td>\n",
       "      <td>55</td>\n",
       "    </tr>\n",
       "    <tr>\n",
       "      <th rowspan=\"5\" valign=\"top\">2015-02</th>\n",
       "      <th>Meteor</th>\n",
       "      <td>5</td>\n",
       "      <td>5</td>\n",
       "      <td>5</td>\n",
       "      <td>5</td>\n",
       "    </tr>\n",
       "    <tr>\n",
       "      <th>Tesco</th>\n",
       "      <td>67</td>\n",
       "      <td>67</td>\n",
       "      <td>67</td>\n",
       "      <td>67</td>\n",
       "    </tr>\n",
       "    <tr>\n",
       "      <th>Three</th>\n",
       "      <td>33</td>\n",
       "      <td>33</td>\n",
       "      <td>33</td>\n",
       "      <td>33</td>\n",
       "    </tr>\n",
       "    <tr>\n",
       "      <th>Vodafone</th>\n",
       "      <td>30</td>\n",
       "      <td>30</td>\n",
       "      <td>30</td>\n",
       "      <td>30</td>\n",
       "    </tr>\n",
       "    <tr>\n",
       "      <th>special</th>\n",
       "      <td>2</td>\n",
       "      <td>2</td>\n",
       "      <td>2</td>\n",
       "      <td>2</td>\n",
       "    </tr>\n",
       "    <tr>\n",
       "      <th rowspan=\"5\" valign=\"top\">2015-03</th>\n",
       "      <th>Meteor</th>\n",
       "      <td>4</td>\n",
       "      <td>4</td>\n",
       "      <td>4</td>\n",
       "      <td>4</td>\n",
       "    </tr>\n",
       "    <tr>\n",
       "      <th>Tesco</th>\n",
       "      <td>55</td>\n",
       "      <td>55</td>\n",
       "      <td>55</td>\n",
       "      <td>55</td>\n",
       "    </tr>\n",
       "    <tr>\n",
       "      <th>Three</th>\n",
       "      <td>16</td>\n",
       "      <td>16</td>\n",
       "      <td>16</td>\n",
       "      <td>16</td>\n",
       "    </tr>\n",
       "    <tr>\n",
       "      <th>Vodafone</th>\n",
       "      <td>23</td>\n",
       "      <td>23</td>\n",
       "      <td>23</td>\n",
       "      <td>23</td>\n",
       "    </tr>\n",
       "    <tr>\n",
       "      <th>world</th>\n",
       "      <td>3</td>\n",
       "      <td>3</td>\n",
       "      <td>3</td>\n",
       "      <td>3</td>\n",
       "    </tr>\n",
       "  </tbody>\n",
       "</table>\n",
       "</div>"
      ],
      "text/plain": [
       "                  index  date  duration  item\n",
       "month   network                              \n",
       "2014-11 Meteor       22    22        22    22\n",
       "        Tesco        63    63        63    63\n",
       "        Three        64    64        64    64\n",
       "        Vodafone     77    77        77    77\n",
       "        special       1     1         1     1\n",
       "2014-12 Meteor       24    24        24    24\n",
       "        Tesco        58    58        58    58\n",
       "        Three        43    43        43    43\n",
       "        Vodafone     28    28        28    28\n",
       "        world         4     4         4     4\n",
       "2015-01 Meteor       31    31        31    31\n",
       "        Tesco        60    60        60    60\n",
       "        Three        59    59        59    59\n",
       "        Vodafone     55    55        55    55\n",
       "2015-02 Meteor        5     5         5     5\n",
       "        Tesco        67    67        67    67\n",
       "        Three        33    33        33    33\n",
       "        Vodafone     30    30        30    30\n",
       "        special       2     2         2     2\n",
       "2015-03 Meteor        4     4         4     4\n",
       "        Tesco        55    55        55    55\n",
       "        Three        16    16        16    16\n",
       "        Vodafone     23    23        23    23\n",
       "        world         3     3         3     3"
      ]
     },
     "execution_count": 17,
     "metadata": {},
     "output_type": "execute_result"
    }
   ],
   "source": [
    "clean_df.groupby([ clean_df['month'], clean_df['network'] ] ).count()"
   ]
  },
  {
   "cell_type": "markdown",
   "metadata": {},
   "source": [
    "These compounded group can be set against another series.  Number of items (sms, call etc) for each month and network"
   ]
  },
  {
   "cell_type": "code",
   "execution_count": 18,
   "metadata": {},
   "outputs": [
    {
     "data": {
      "text/plain": [
       "month    network   item\n",
       "2014-11  Meteor    call    13\n",
       "                   sms      9\n",
       "         Tesco     call    31\n",
       "                   data    29\n",
       "                   sms      3\n",
       "         Three     call    39\n",
       "                   sms     25\n",
       "         Vodafone  sms     54\n",
       "                   call    23\n",
       "         special   sms      1\n",
       "2014-12  Meteor    call    12\n",
       "                   sms     12\n",
       "         Tesco     data    30\n",
       "                   call    27\n",
       "                   sms      1\n",
       "         Three     call    30\n",
       "                   sms     13\n",
       "         Vodafone  sms     18\n",
       "                   call    10\n",
       "         world     sms      4\n",
       "2015-01  Meteor    call    21\n",
       "                   sms     10\n",
       "         Tesco     data    31\n",
       "                   call    26\n",
       "                   sms      3\n",
       "         Three     sms     33\n",
       "                   call    26\n",
       "         Vodafone  sms     40\n",
       "                   call    15\n",
       "2015-02  Meteor    call     4\n",
       "                   sms      1\n",
       "         Tesco     call    34\n",
       "                   data    31\n",
       "                   sms      2\n",
       "         Three     call    22\n",
       "                   sms     11\n",
       "         Vodafone  sms     23\n",
       "                   call     7\n",
       "         special   sms      2\n",
       "2015-03  Meteor    call     4\n",
       "         Tesco     data    29\n",
       "                   call    22\n",
       "                   sms      4\n",
       "         Three     call    11\n",
       "                   sms      5\n",
       "         Vodafone  sms     13\n",
       "                   call    10\n",
       "         world     sms      3\n",
       "Name: item, dtype: int64"
      ]
     },
     "execution_count": 18,
     "metadata": {},
     "output_type": "execute_result"
    }
   ],
   "source": [
    "clean_df.groupby([clean_df['month'], clean_df['network']])['item'].value_counts()"
   ]
  },
  {
   "cell_type": "markdown",
   "metadata": {},
   "source": [
    "## TASK: find out the maximum duration of each network on each month.  ** use max()"
   ]
  },
  {
   "cell_type": "code",
   "execution_count": 19,
   "metadata": {},
   "outputs": [
    {
     "data": {
      "text/plain": [
       "month    network \n",
       "2014-11  Meteor        483.0\n",
       "         Tesco        1940.0\n",
       "         Three        1714.0\n",
       "         Vodafone     1205.0\n",
       "         special         1.0\n",
       "2014-12  Meteor        526.0\n",
       "         Tesco         844.0\n",
       "         Three        2120.0\n",
       "         Vodafone      982.0\n",
       "         world           1.0\n",
       "2015-01  Meteor        553.0\n",
       "         Tesco         566.0\n",
       "         Three        1247.0\n",
       "         Vodafone     1859.0\n",
       "2015-02  Meteor       1090.0\n",
       "         Tesco         777.0\n",
       "         Three        1863.0\n",
       "         Vodafone     1107.0\n",
       "         special         1.0\n",
       "2015-03  Meteor        192.0\n",
       "         Tesco       10528.0\n",
       "         Three        2328.0\n",
       "         Vodafone     1325.0\n",
       "         world           1.0\n",
       "Name: duration, dtype: float64"
      ]
     },
     "execution_count": 19,
     "metadata": {},
     "output_type": "execute_result"
    }
   ],
   "source": [
    "clean_df.groupby([clean_df['month'], clean_df['network'] ] )['duration'].max()"
   ]
  },
  {
   "cell_type": "markdown",
   "metadata": {},
   "source": [
    "Analysis can also be focused on particular value of a series, for example \n",
    "# What is the sum of durations, for calls only, for each month and network"
   ]
  },
  {
   "cell_type": "code",
   "execution_count": 20,
   "metadata": {
    "scrolled": true
   },
   "outputs": [
    {
     "data": {
      "text/html": [
       "<div>\n",
       "<style scoped>\n",
       "    .dataframe tbody tr th:only-of-type {\n",
       "        vertical-align: middle;\n",
       "    }\n",
       "\n",
       "    .dataframe tbody tr th {\n",
       "        vertical-align: top;\n",
       "    }\n",
       "\n",
       "    .dataframe thead th {\n",
       "        text-align: right;\n",
       "    }\n",
       "</style>\n",
       "<table border=\"1\" class=\"dataframe\">\n",
       "  <thead>\n",
       "    <tr style=\"text-align: right;\">\n",
       "      <th></th>\n",
       "      <th></th>\n",
       "      <th>index</th>\n",
       "      <th>duration</th>\n",
       "    </tr>\n",
       "    <tr>\n",
       "      <th>month</th>\n",
       "      <th>network</th>\n",
       "      <th></th>\n",
       "      <th></th>\n",
       "    </tr>\n",
       "  </thead>\n",
       "  <tbody>\n",
       "    <tr>\n",
       "      <th rowspan=\"4\" valign=\"top\">2014-11</th>\n",
       "      <th>Meteor</th>\n",
       "      <td>1391</td>\n",
       "      <td>1521.0</td>\n",
       "    </tr>\n",
       "    <tr>\n",
       "      <th>Tesco</th>\n",
       "      <td>2717</td>\n",
       "      <td>7252.0</td>\n",
       "    </tr>\n",
       "    <tr>\n",
       "      <th>Three</th>\n",
       "      <td>4162</td>\n",
       "      <td>12458.0</td>\n",
       "    </tr>\n",
       "    <tr>\n",
       "      <th>Vodafone</th>\n",
       "      <td>2693</td>\n",
       "      <td>4303.0</td>\n",
       "    </tr>\n",
       "    <tr>\n",
       "      <th rowspan=\"4\" valign=\"top\">2014-12</th>\n",
       "      <th>Meteor</th>\n",
       "      <td>3770</td>\n",
       "      <td>2010.0</td>\n",
       "    </tr>\n",
       "    <tr>\n",
       "      <th>Tesco</th>\n",
       "      <td>8600</td>\n",
       "      <td>3933.0</td>\n",
       "    </tr>\n",
       "    <tr>\n",
       "      <th>Three</th>\n",
       "      <td>9339</td>\n",
       "      <td>6316.0</td>\n",
       "    </tr>\n",
       "    <tr>\n",
       "      <th>Vodafone</th>\n",
       "      <td>3016</td>\n",
       "      <td>1302.0</td>\n",
       "    </tr>\n",
       "    <tr>\n",
       "      <th rowspan=\"4\" valign=\"top\">2015-01</th>\n",
       "      <th>Meteor</th>\n",
       "      <td>10132</td>\n",
       "      <td>2207.0</td>\n",
       "    </tr>\n",
       "    <tr>\n",
       "      <th>Tesco</th>\n",
       "      <td>12551</td>\n",
       "      <td>4792.0</td>\n",
       "    </tr>\n",
       "    <tr>\n",
       "      <th>Three</th>\n",
       "      <td>12841</td>\n",
       "      <td>6445.0</td>\n",
       "    </tr>\n",
       "    <tr>\n",
       "      <th>Vodafone</th>\n",
       "      <td>7590</td>\n",
       "      <td>3626.0</td>\n",
       "    </tr>\n",
       "    <tr>\n",
       "      <th rowspan=\"4\" valign=\"top\">2015-02</th>\n",
       "      <th>Meteor</th>\n",
       "      <td>2485</td>\n",
       "      <td>1188.0</td>\n",
       "    </tr>\n",
       "    <tr>\n",
       "      <th>Tesco</th>\n",
       "      <td>22333</td>\n",
       "      <td>5085.0</td>\n",
       "    </tr>\n",
       "    <tr>\n",
       "      <th>Three</th>\n",
       "      <td>14539</td>\n",
       "      <td>6279.0</td>\n",
       "    </tr>\n",
       "    <tr>\n",
       "      <th>Vodafone</th>\n",
       "      <td>4638</td>\n",
       "      <td>1864.0</td>\n",
       "    </tr>\n",
       "    <tr>\n",
       "      <th rowspan=\"4\" valign=\"top\">2015-03</th>\n",
       "      <th>Meteor</th>\n",
       "      <td>3116</td>\n",
       "      <td>274.0</td>\n",
       "    </tr>\n",
       "    <tr>\n",
       "      <th>Tesco</th>\n",
       "      <td>16996</td>\n",
       "      <td>12974.0</td>\n",
       "    </tr>\n",
       "    <tr>\n",
       "      <th>Three</th>\n",
       "      <td>8524</td>\n",
       "      <td>4966.0</td>\n",
       "    </tr>\n",
       "    <tr>\n",
       "      <th>Vodafone</th>\n",
       "      <td>7726</td>\n",
       "      <td>3513.0</td>\n",
       "    </tr>\n",
       "  </tbody>\n",
       "</table>\n",
       "</div>"
      ],
      "text/plain": [
       "                  index  duration\n",
       "month   network                  \n",
       "2014-11 Meteor     1391    1521.0\n",
       "        Tesco      2717    7252.0\n",
       "        Three      4162   12458.0\n",
       "        Vodafone   2693    4303.0\n",
       "2014-12 Meteor     3770    2010.0\n",
       "        Tesco      8600    3933.0\n",
       "        Three      9339    6316.0\n",
       "        Vodafone   3016    1302.0\n",
       "2015-01 Meteor    10132    2207.0\n",
       "        Tesco     12551    4792.0\n",
       "        Three     12841    6445.0\n",
       "        Vodafone   7590    3626.0\n",
       "2015-02 Meteor     2485    1188.0\n",
       "        Tesco     22333    5085.0\n",
       "        Three     14539    6279.0\n",
       "        Vodafone   4638    1864.0\n",
       "2015-03 Meteor     3116     274.0\n",
       "        Tesco     16996   12974.0\n",
       "        Three      8524    4966.0\n",
       "        Vodafone   7726    3513.0"
      ]
     },
     "execution_count": 20,
     "metadata": {},
     "output_type": "execute_result"
    }
   ],
   "source": [
    "clean_df[clean_df['item'] == 'call'].groupby(['month', 'network']).sum()"
   ]
  },
  {
   "cell_type": "markdown",
   "metadata": {},
   "source": [
    "## TASK: plot this result in bar plot or plot of your choice"
   ]
  },
  {
   "cell_type": "code",
   "execution_count": 21,
   "metadata": {},
   "outputs": [
    {
     "data": {
      "text/plain": [
       "array([<matplotlib.axes._subplots.AxesSubplot object at 0x11581a860>],\n",
       "      dtype=object)"
      ]
     },
     "execution_count": 21,
     "metadata": {},
     "output_type": "execute_result"
    },
    {
     "data": {
      "image/png": "[encoded data removed]",
      "text/plain": [
       "<Figure size 432x288 with 1 Axes>"
      ]
     },
     "metadata": {
      "needs_background": "light"
     },
     "output_type": "display_data"
    }
   ],
   "source": [
    "clean_df[clean_df['item'] == 'call'].groupby('month')['network'].value_counts().plot(kind=\"bar\", subplots=True )"
   ]
  },
  {
   "cell_type": "markdown",
   "metadata": {},
   "source": [
    "## TASK: Which network has the highest number of sms over the 5 months period."
   ]
  },
  {
   "cell_type": "code",
   "execution_count": 22,
   "metadata": {},
   "outputs": [
    {
     "data": {
      "text/plain": [
       "month    network \n",
       "2014-11  Vodafone    54\n",
       "         Three       25\n",
       "         Meteor       9\n",
       "         Tesco        3\n",
       "         special      1\n",
       "2014-12  Vodafone    18\n",
       "         Three       13\n",
       "         Meteor      12\n",
       "         world        4\n",
       "         Tesco        1\n",
       "2015-01  Vodafone    40\n",
       "         Three       33\n",
       "         Meteor      10\n",
       "         Tesco        3\n",
       "2015-02  Vodafone    23\n",
       "         Three       11\n",
       "         Tesco        2\n",
       "         special      2\n",
       "         Meteor       1\n",
       "2015-03  Vodafone    13\n",
       "         Three        5\n",
       "         Tesco        4\n",
       "         world        3\n",
       "Name: network, dtype: int64"
      ]
     },
     "execution_count": 22,
     "metadata": {},
     "output_type": "execute_result"
    }
   ],
   "source": [
    "clean_df[clean_df.item==\"sms\"].groupby(['month'])['network'].value_counts()"
   ]
  },
  {
   "cell_type": "code",
   "execution_count": 23,
   "metadata": {},
   "outputs": [
    {
     "data": {
      "text/plain": [
       "('2014-11', 'Vodafone')"
      ]
     },
     "execution_count": 23,
     "metadata": {},
     "output_type": "execute_result"
    }
   ],
   "source": [
    "clean_df[clean_df.item==\"sms\"].groupby(['month'])['network'].value_counts().idxmax() ## python finds the max value for you!"
   ]
  },
  {
   "cell_type": "markdown",
   "metadata": {},
   "source": [
    "## TASK: Get the different items for each month "
   ]
  },
  {
   "cell_type": "code",
   "execution_count": 24,
   "metadata": {},
   "outputs": [
    {
     "data": {
      "text/plain": [
       "month    item\n",
       "2014-11  call    106\n",
       "         sms      92\n",
       "         data     29\n",
       "2014-12  call     79\n",
       "         sms      48\n",
       "         data     30\n",
       "2015-01  call     88\n",
       "         sms      86\n",
       "         data     31\n",
       "2015-02  call     67\n",
       "         sms      39\n",
       "         data     31\n",
       "2015-03  call     47\n",
       "         data     29\n",
       "         sms      25\n",
       "Name: item, dtype: int64"
      ]
     },
     "execution_count": 24,
     "metadata": {},
     "output_type": "execute_result"
    }
   ],
   "source": [
    "clean_df.groupby('month')['item'].value_counts()"
   ]
  },
  {
   "cell_type": "markdown",
   "metadata": {},
   "source": [
    "## TASK: What is the sum of durations, for calls only, for each network"
   ]
  },
  {
   "cell_type": "code",
   "execution_count": 25,
   "metadata": {},
   "outputs": [
    {
     "data": {
      "text/plain": [
       "network\n",
       "Meteor       7200.0\n",
       "Tesco       34036.0\n",
       "Three       36464.0\n",
       "Vodafone    14608.0\n",
       "Name: duration, dtype: float64"
      ]
     },
     "execution_count": 25,
     "metadata": {},
     "output_type": "execute_result"
    }
   ],
   "source": [
    "clean_df[clean_df['item'] == 'call'].groupby('network')['duration'].sum()"
   ]
  },
  {
   "cell_type": "markdown",
   "metadata": {},
   "source": [
    "## Creating a new column "
   ]
  },
  {
   "cell_type": "code",
   "execution_count": 26,
   "metadata": {},
   "outputs": [
    {
     "name": "stderr",
     "output_type": "stream",
     "text": [
      "/Users/sefaozalp/anaconda3/lib/python3.6/site-packages/ipykernel_launcher.py:2: SettingWithCopyWarning: \n",
      "A value is trying to be set on a copy of a slice from a DataFrame.\n",
      "Try using .loc[row_indexer,col_indexer] = value instead\n",
      "\n",
      "See the caveats in the documentation: https://pandas.pydata.org/pandas-docs/stable/user_guide/indexing.html#returning-a-view-versus-a-copy\n",
      "  \n"
     ]
    }
   ],
   "source": [
    "import numpy as np \n",
    "clean_df[\"long_call\"] = np.where(clean_df['duration']>=50, 'yes', 'no')\n"
   ]
  },
  {
   "cell_type": "markdown",
   "metadata": {},
   "source": [
    "## TASK: create a new column called hour and calculate how many hours each item was."
   ]
  },
  {
   "cell_type": "code",
   "execution_count": 27,
   "metadata": {},
   "outputs": [
    {
     "data": {
      "text/plain": [
       "array([  0.        ,   0.        ,   0.        ,   0.        ,\n",
       "         0.        ,   0.        ,  10.03333333,  17.5       ,\n",
       "         0.        ,  19.71666667,   0.        ,   0.        ,\n",
       "         0.        ,   0.        ,   0.        ,   0.        ,\n",
       "         1.53333333,   0.        ,   6.25      ,   0.        ,\n",
       "         0.        ,   0.        ,   0.        ,   0.        ,\n",
       "        13.05      ,   0.        ,   0.        ,   1.68333333,\n",
       "        28.56666667,   1.6       ,   0.        ,   6.4       ,\n",
       "         0.        ,   0.        ,   0.        ,   0.        ,\n",
       "         0.        ,   0.        ,   1.43333333,   0.        ,\n",
       "         0.        ,   7.13333333,   0.        ,   1.15      ,\n",
       "         0.        ,   0.        ,   0.        ,   0.        ,\n",
       "         2.18333333,   0.        ,   0.        ,   0.        ,\n",
       "         9.16666667,   0.        ,   0.        ,   0.        ,\n",
       "        32.33333333,   4.68333333,   0.        ,   0.        ,\n",
       "         0.        ,   0.        ,   4.38333333,   0.        ,\n",
       "         0.        ,   0.        ,   0.        ,   0.        ,\n",
       "         0.        ,   0.        ,   0.        ,   0.        ,\n",
       "         0.        ,   0.        ,   0.        ,   6.45      ,\n",
       "         0.        ,   0.        ,   0.        ,   0.        ,\n",
       "        10.61666667,   0.        ,   1.03333333,   0.        ,\n",
       "         0.        ,   2.43333333,   0.        ,  14.36666667,\n",
       "         0.        ,   0.        ,  13.88333333,   3.43333333,\n",
       "         0.        ,   7.36666667,   0.        ,   7.71666667,\n",
       "         0.        ,   0.        ,   0.        ,   0.        ,\n",
       "         0.        ,   0.        ,  20.56666667,   0.        ,\n",
       "         0.        ,   0.        ,   8.05      ,   0.        ,\n",
       "         0.        ,  15.91666667,   0.        ,   0.        ,\n",
       "         7.65      ,  17.05      ,  17.08333333,   2.81666667,\n",
       "         0.        ,   0.        ,   0.        ,   2.25      ,\n",
       "         0.        ,   0.        ,   0.        ,   0.        ,\n",
       "         2.05      ,   0.        ,   1.5       ,   0.        ,\n",
       "         0.        ,   0.        ,   0.        ,   0.        ,\n",
       "         0.        ,   0.        ,   1.63333333,   0.        ,\n",
       "         0.        ,   0.        ,   0.        ,   0.        ,\n",
       "         0.        ,   0.        ,   0.        ,   0.        ,\n",
       "         0.        ,   0.        ,   0.        ,   2.76666667,\n",
       "         0.        ,   0.        ,   0.        ,   0.        ,\n",
       "         0.        ,   0.        ,   0.        ,   0.        ,\n",
       "         0.        ,   0.        ,   0.        ,   2.5       ,\n",
       "         1.48333333,   1.25      ,   0.        ,   0.        ,\n",
       "         0.        ,   4.65      ,   7.53333333,   0.        ,\n",
       "        20.08333333,   3.63333333,   0.        ,   0.        ,\n",
       "         0.        ,   0.        ,   0.        ,   0.        ,\n",
       "         0.        ,   0.        ,   0.        ,   0.        ,\n",
       "         0.        ,   0.        ,   0.        ,   0.        ,\n",
       "         0.        ,   0.        ,   0.        ,   0.        ,\n",
       "         0.        ,   0.        ,   2.96666667,   6.86666667,\n",
       "         0.        ,   7.65      ,   0.        ,   0.        ,\n",
       "         0.        ,   0.        ,   0.        ,   0.        ,\n",
       "         0.        ,   0.        ,   0.        ,   0.        ,\n",
       "         0.        ,   0.        ,   0.        ,   0.        ,\n",
       "         0.        ,   0.        ,   0.        ,   0.        ,\n",
       "         0.        ,   0.        ,   0.        ,   0.        ,\n",
       "         0.        ,   0.        ,   0.        ,   2.41666667,\n",
       "        16.68333333,   0.        ,   0.        ,   0.        ,\n",
       "         0.        ,   0.        ,   0.        ,   0.        ,\n",
       "         0.        ,   2.06666667,   0.        ,   0.        ,\n",
       "         0.        ,   0.        ,   0.        ,   0.        ,\n",
       "         0.        ,   0.        ,   0.        ,   0.        ,\n",
       "         0.        ,   0.        ,   0.        ,   0.        ,\n",
       "         0.        ,   0.        ,   0.        ,   2.13333333,\n",
       "         4.15      ,  35.33333333,   0.        ,   0.        ,\n",
       "         1.18333333,   0.        ,   0.        ,   0.        ,\n",
       "         0.        ,   0.        ,   0.        ,   0.        ,\n",
       "         0.        ,   0.        ,   0.        ,   0.        ,\n",
       "         0.        ,  16.36666667,   0.        ,   0.        ,\n",
       "         0.        ,  10.        ,   4.06666667,   3.1       ,\n",
       "         0.        ,   1.25      ,   1.5       ,   0.        ,\n",
       "         0.        ,   0.        ,   0.        ,   3.46666667,\n",
       "         1.78333333,   0.        ,   0.        ,   0.        ,\n",
       "         0.        ,   0.        ,   0.        ,   0.        ,\n",
       "         0.        ,   0.        ,   0.        ,   0.        ,\n",
       "         1.9       ,   0.        ,   1.35      ,   2.9       ,\n",
       "         1.18333333,   0.        ,   0.        ,   0.        ,\n",
       "         1.05      ,   0.        ,   0.        ,   0.        ,\n",
       "         0.        ,   0.        ,   0.        ,   0.        ,\n",
       "         0.        ,   0.        ,   0.        ,   0.        ,\n",
       "         0.        ,   0.        ,   0.        ,   0.        ,\n",
       "         0.        ,   0.        ,   0.        ,  18.6       ,\n",
       "         0.        ,   0.        ,   0.        ,   0.        ,\n",
       "         2.38333333,   0.        ,   2.51666667,   0.        ,\n",
       "         0.        ,   0.        ,   0.        ,   0.        ,\n",
       "         0.        ,   0.        ,   0.        ,   0.        ,\n",
       "         0.        ,   0.        ,   0.        ,   8.76666667,\n",
       "         0.        ,  14.06666667,   6.38333333,   0.        ,\n",
       "         0.        ,   0.        ,   0.        ,   1.18333333,\n",
       "         0.        ,   7.75      ,   2.55      ,  13.76666667,\n",
       "         0.        ,   7.36666667,   0.        ,   0.        ,\n",
       "         0.        ,   0.        ,   0.        ,   3.18333333,\n",
       "         0.        ,   1.65      ,   7.13333333,   0.        ,\n",
       "        12.11666667,   0.        ,   2.        ,   0.        ,\n",
       "         0.        ,   0.        ,   0.        ,   0.        ,\n",
       "         0.        ,   0.        ,   0.        ,   0.        ,\n",
       "         1.86666667,   0.        ,   0.        ,   3.71666667,\n",
       "         0.        ,   0.        ,   1.23333333,   0.        ,\n",
       "         0.        ,   0.        ,   0.        ,   0.        ,\n",
       "         0.        ,   0.        ,   0.        ,   0.        ,\n",
       "         0.        ,   0.        ,   0.        ,  30.98333333,\n",
       "         0.        ,   0.        ,   1.01666667,   4.46666667,\n",
       "         3.2       ,   0.        ,   0.        ,   0.        ,\n",
       "         0.        ,   0.        ,   0.        ,   0.        ,\n",
       "         0.        ,   0.        ,   3.61666667,   0.        ,\n",
       "         0.        ,   0.        ,   9.05      ,   2.18333333,\n",
       "         0.        ,   0.        ,   0.        ,   0.        ,\n",
       "         9.21666667,   0.        ,   0.        ,   0.        ,\n",
       "         0.        ,   8.15      ,   0.        ,   0.        ,\n",
       "         0.        ,   0.        ,   0.        ,   0.        ,\n",
       "         0.        ,   0.        ,   0.        ,   9.43333333,\n",
       "         0.        ,   0.        ,  15.93333333,   0.        ,\n",
       "         0.        ,   2.41666667,   0.        ,   7.48333333,\n",
       "         0.        ,   0.        ,   0.        ,   0.        ,\n",
       "         0.        ,   0.        ,   0.        ,   0.        ,\n",
       "         3.9       ,   2.75      ,   0.        ,   0.        ,\n",
       "         0.        ,   0.        ,   0.        ,   0.        ,\n",
       "         0.        ,   0.        ,   0.        ,   1.68333333,\n",
       "         0.        ,   0.        ,   0.        ,   0.        ,\n",
       "         0.        ,   0.        ,   0.        ,   0.        ,\n",
       "         6.13333333,   0.        ,   0.        ,   0.        ,\n",
       "         0.        ,   0.        ,   0.        ,   0.        ,\n",
       "         0.        ,   0.        ,   0.        ,   0.        ,\n",
       "         0.        ,   0.        ,   0.        ,   0.        ,\n",
       "         0.        ,   0.        ,   0.        ,   0.        ,\n",
       "         0.        ,   0.        ,   0.        ,   5.96666667,\n",
       "         8.76666667,   0.        ,   0.        ,   0.        ,\n",
       "         0.        ,   0.        ,   0.        ,  10.66666667,\n",
       "         0.        ,   0.        ,   0.        ,   2.63333333,\n",
       "         1.73333333,   0.        ,   0.        ,   0.        ,\n",
       "         0.        ,   0.        ,   0.        ,   2.13333333,\n",
       "         1.28333333,   0.        ,   0.        ,   0.        ,\n",
       "         2.4       ,   1.65      ,   1.        ,  11.36666667,\n",
       "         0.        ,  12.23333333,   0.        ,   0.        ,\n",
       "         0.        ,   0.        ,   4.91666667,   0.        ,\n",
       "         1.76666667,   0.        ,   0.        ,   0.        ,\n",
       "         0.        ,   0.        ,   0.        ,   0.        ,\n",
       "         0.        ,   0.        ,   4.83333333,   0.        ,\n",
       "         0.        ,  20.78333333,   0.        ,   0.        ,\n",
       "         0.        ,   0.        ,   0.        ,   0.        ,\n",
       "         0.        ,   0.        ,   0.        ,   0.        ,\n",
       "         0.        ,   0.        ,   0.        ,   0.        ,\n",
       "         6.63333333,   6.86666667,   9.46666667,   0.        ,\n",
       "         0.        ,   0.        ,   0.        ,   3.35      ,\n",
       "         0.        ,   0.        ,   0.        ,   0.        ,\n",
       "         0.        ,   0.        ,   0.        ,   8.38333333,\n",
       "         0.        ,   0.        ,   0.        ,   0.        ,\n",
       "         0.        ,   1.75      ,   7.76666667,   0.        ,\n",
       "         0.        ,   6.61666667,   0.        ,   0.        ,\n",
       "         0.        ,   0.        ,   0.        ,   0.        ,\n",
       "         0.        ,   0.        ,   2.8       ,   0.        ,\n",
       "         0.        ,   1.01666667,   0.        ,   0.        ,\n",
       "         6.85      ,   0.        ,   0.        ,   0.        ,\n",
       "         0.        ,   0.        ,   0.        ,   0.        ,\n",
       "         1.3       ,   1.36666667,   0.        ,   7.96666667,\n",
       "        11.66666667,   0.        ,   0.        ,   1.71666667,\n",
       "         0.        ,   0.        ,   0.        ,   0.        ,\n",
       "         0.        ,   0.        ,   0.        ,   0.        ,\n",
       "         1.55      ,   0.        ,   0.        ,   4.41666667,\n",
       "        12.95      ,  18.16666667,   8.18333333,   0.        ,\n",
       "         0.        ,  18.45      ,   0.        ,   0.        ,\n",
       "         3.33333333,   2.15      ,   0.        ,   0.        ,\n",
       "         0.        ,   3.43333333,   0.        ,   0.        ,\n",
       "         0.        ,  31.05      ,   0.        ,   1.73333333,\n",
       "         8.35      ,   0.        ,   0.        ,   0.        ,\n",
       "         0.        ,   0.        ,   0.        ,   4.53333333,\n",
       "         0.        ,   0.        ,   0.        ,   4.25      ,\n",
       "         0.        ,   6.03333333,   1.66666667,   1.23333333,\n",
       "         0.        ,   0.        ,   0.        ,   0.        ,\n",
       "         0.        ,   0.        ,   0.        ,   1.71666667,\n",
       "         0.        ,   4.66666667,   3.05      ,   0.        ,\n",
       "         0.        ,   0.        ,   0.        ,   0.        ,\n",
       "         0.        ,   0.        ,   0.        ,   0.        ,\n",
       "         3.78333333,   0.        ,   0.        ,   1.03333333,\n",
       "         1.51666667,   0.        ,   0.        ,   2.13333333,\n",
       "         0.        ,   0.        ,   0.        ,   0.        ,\n",
       "         0.        ,   1.98333333,   0.        ,   0.        ,\n",
       "         0.        ,   0.        ,   0.        ,   0.        ,\n",
       "         0.        ,   2.35      ,  13.25      ,   2.01666667,\n",
       "         0.        ,   0.        ,   0.        ,   0.        ,\n",
       "         0.        ,   1.33333333,   0.        ,  10.88333333,\n",
       "        12.15      ,   1.48333333,   0.        ,   0.        ,\n",
       "         0.        ,   0.        ,   0.        ,   0.        ,\n",
       "         0.        ,   0.        ,   1.15      ,   1.43333333,\n",
       "         0.        ,   7.51666667,   0.        ,   0.        ,\n",
       "         1.76666667,   2.46666667,   0.        ,   0.        ,\n",
       "         0.        ,   0.        ,   0.        ,  38.8       ,\n",
       "         0.        ,   2.75      ,   1.56666667,   0.        ,\n",
       "         0.        ,   0.        ,   0.        ,   0.        ,\n",
       "         0.        ,   1.13333333,   0.        ,   0.        ,\n",
       "         0.        ,   3.03333333,   0.        ,   1.78333333,\n",
       "         0.        ,   0.        ,   0.        ,   1.95      ,\n",
       "         2.15      ,   5.93333333,   0.        ,   0.        ,\n",
       "         0.        ,   0.        ,   3.23333333,   3.81666667,\n",
       "         0.        ,   0.        ,   9.5       ,   0.        ,\n",
       "         0.        ,   0.        ,   1.78333333,   2.13333333,\n",
       "         0.        ,   5.58333333,   0.        ,   0.        ,\n",
       "         5.08333333,   3.45      ,   0.        ,   0.        ,\n",
       "         0.        ,   5.95      ,   0.        ,   0.        ,\n",
       "         0.        ,   0.        ,   0.        ,   0.        ,\n",
       "         0.        ,   0.        ,   0.        ,   0.        ,\n",
       "         7.71666667,   0.        ,   1.55      ,   3.2       ,\n",
       "         0.        ,   0.        ,   1.26666667,   5.91666667,\n",
       "        12.41666667,   0.        ,  22.08333333,  12.8       ,\n",
       "         0.        ,   0.        ,   0.        ,   0.        ,\n",
       "         0.        , 175.46666667,   0.        ,   0.        ,\n",
       "         0.        ,   0.        ,   0.        ,   0.        ,\n",
       "         0.        ,   0.        ,   0.        ,   0.        ,\n",
       "         0.        ,   0.        ,   0.        ])"
      ]
     },
     "execution_count": 27,
     "metadata": {},
     "output_type": "execute_result"
    }
   ],
   "source": [
    " np.where(clean_df['duration']/60<1, 0, clean_df['duration']/60)"
   ]
  },
  {
   "cell_type": "code",
   "execution_count": 28,
   "metadata": {},
   "outputs": [
    {
     "name": "stderr",
     "output_type": "stream",
     "text": [
      "/Users/sefaozalp/anaconda3/lib/python3.6/site-packages/ipykernel_launcher.py:1: SettingWithCopyWarning: \n",
      "A value is trying to be set on a copy of a slice from a DataFrame.\n",
      "Try using .loc[row_indexer,col_indexer] = value instead\n",
      "\n",
      "See the caveats in the documentation: https://pandas.pydata.org/pandas-docs/stable/user_guide/indexing.html#returning-a-view-versus-a-copy\n",
      "  \"\"\"Entry point for launching an IPython kernel.\n"
     ]
    }
   ],
   "source": [
    "clean_df['hour'] = clean_df['duration']/60"
   ]
  },
  {
   "cell_type": "markdown",
   "metadata": {},
   "source": [
    "## Crosstab"
   ]
  },
  {
   "cell_type": "markdown",
   "metadata": {},
   "source": [
    "Crosstab is another pandas function to transpose and summarise datasets.  For example if you want to for each network how many items per month"
   ]
  },
  {
   "cell_type": "code",
   "execution_count": 29,
   "metadata": {},
   "outputs": [
    {
     "data": {
      "text/html": [
       "<div>\n",
       "<style scoped>\n",
       "    .dataframe tbody tr th:only-of-type {\n",
       "        vertical-align: middle;\n",
       "    }\n",
       "\n",
       "    .dataframe tbody tr th {\n",
       "        vertical-align: top;\n",
       "    }\n",
       "\n",
       "    .dataframe thead th {\n",
       "        text-align: right;\n",
       "    }\n",
       "</style>\n",
       "<table border=\"1\" class=\"dataframe\">\n",
       "  <thead>\n",
       "    <tr style=\"text-align: right;\">\n",
       "      <th>month</th>\n",
       "      <th>2014-11</th>\n",
       "      <th>2014-12</th>\n",
       "      <th>2015-01</th>\n",
       "      <th>2015-02</th>\n",
       "      <th>2015-03</th>\n",
       "      <th>All</th>\n",
       "    </tr>\n",
       "    <tr>\n",
       "      <th>network</th>\n",
       "      <th></th>\n",
       "      <th></th>\n",
       "      <th></th>\n",
       "      <th></th>\n",
       "      <th></th>\n",
       "      <th></th>\n",
       "    </tr>\n",
       "  </thead>\n",
       "  <tbody>\n",
       "    <tr>\n",
       "      <th>Meteor</th>\n",
       "      <td>22</td>\n",
       "      <td>24</td>\n",
       "      <td>31</td>\n",
       "      <td>5</td>\n",
       "      <td>4</td>\n",
       "      <td>86</td>\n",
       "    </tr>\n",
       "    <tr>\n",
       "      <th>Tesco</th>\n",
       "      <td>63</td>\n",
       "      <td>58</td>\n",
       "      <td>60</td>\n",
       "      <td>67</td>\n",
       "      <td>55</td>\n",
       "      <td>303</td>\n",
       "    </tr>\n",
       "    <tr>\n",
       "      <th>Three</th>\n",
       "      <td>64</td>\n",
       "      <td>43</td>\n",
       "      <td>59</td>\n",
       "      <td>33</td>\n",
       "      <td>16</td>\n",
       "      <td>215</td>\n",
       "    </tr>\n",
       "    <tr>\n",
       "      <th>Vodafone</th>\n",
       "      <td>77</td>\n",
       "      <td>28</td>\n",
       "      <td>55</td>\n",
       "      <td>30</td>\n",
       "      <td>23</td>\n",
       "      <td>213</td>\n",
       "    </tr>\n",
       "    <tr>\n",
       "      <th>special</th>\n",
       "      <td>1</td>\n",
       "      <td>0</td>\n",
       "      <td>0</td>\n",
       "      <td>2</td>\n",
       "      <td>0</td>\n",
       "      <td>3</td>\n",
       "    </tr>\n",
       "    <tr>\n",
       "      <th>world</th>\n",
       "      <td>0</td>\n",
       "      <td>4</td>\n",
       "      <td>0</td>\n",
       "      <td>0</td>\n",
       "      <td>3</td>\n",
       "      <td>7</td>\n",
       "    </tr>\n",
       "    <tr>\n",
       "      <th>All</th>\n",
       "      <td>227</td>\n",
       "      <td>157</td>\n",
       "      <td>205</td>\n",
       "      <td>137</td>\n",
       "      <td>101</td>\n",
       "      <td>827</td>\n",
       "    </tr>\n",
       "  </tbody>\n",
       "</table>\n",
       "</div>"
      ],
      "text/plain": [
       "month     2014-11  2014-12  2015-01  2015-02  2015-03  All\n",
       "network                                                   \n",
       "Meteor         22       24       31        5        4   86\n",
       "Tesco          63       58       60       67       55  303\n",
       "Three          64       43       59       33       16  215\n",
       "Vodafone       77       28       55       30       23  213\n",
       "special         1        0        0        2        0    3\n",
       "world           0        4        0        0        3    7\n",
       "All           227      157      205      137      101  827"
      ]
     },
     "execution_count": 29,
     "metadata": {},
     "output_type": "execute_result"
    }
   ],
   "source": [
    "pd.crosstab(clean_df['network'], clean_df['month'], margins=True)"
   ]
  },
  {
   "cell_type": "code",
   "execution_count": null,
   "metadata": {},
   "outputs": [],
   "source": []
  }
 ],
 "metadata": {
  "kernelspec": {
   "display_name": "Python 3.6.10 64-bit ('base': conda)",
   "language": "python",
   "name": "python361064bitbaseconda5c00a95d57c342fd8a44d770be4529b3"
  },
  "language_info": {
   "codemirror_mode": {
    "name": "ipython",
    "version": 3
   },
   "file_extension": ".py",
   "mimetype": "text/x-python",
   "name": "python",
   "nbconvert_exporter": "python",
   "pygments_lexer": "ipython3",
   "version": "3.6.10"
  }
 },
 "nbformat": 4,
 "nbformat_minor": 4
}
